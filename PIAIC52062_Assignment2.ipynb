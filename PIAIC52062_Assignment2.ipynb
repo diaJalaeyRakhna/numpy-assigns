{
  "nbformat": 4,
  "nbformat_minor": 0,
  "metadata": {
    "kernelspec": {
      "name": "python3",
      "display_name": "Python 3.8.3 32-bit",
      "metadata": {
        "interpreter": {
          "hash": "663fc6312c847af1b9736b1896ff6e214e5453cd77d6749c0139af4fc13f9aa1"
        }
      }
    },
    "language_info": {
      "codemirror_mode": {
        "name": "ipython",
        "version": 3
      },
      "file_extension": ".py",
      "mimetype": "text/x-python",
      "name": "python",
      "nbconvert_exporter": "python",
      "pygments_lexer": "ipython3",
      "version": "3.8.3-final"
    },
    "colab": {
      "name": "PIAIC52062_Assignment2.ipynb",
      "provenance": [],
      "include_colab_link": true
    }
  },
  "cells": [
    {
      "cell_type": "markdown",
      "metadata": {
        "id": "view-in-github",
        "colab_type": "text"
      },
      "source": [
        "<a href=\"https://colab.research.google.com/github/diaJalaeyRakhna/numpy-assigns/blob/main/PIAIC52062_Assignment2.ipynb\" target=\"_parent\"><img src=\"https://colab.research.google.com/assets/colab-badge.svg\" alt=\"Open In Colab\"/></a>"
      ]
    },
    {
      "cell_type": "markdown",
      "metadata": {
        "id": "asSdY3QoZ55E"
      },
      "source": [
        "# Numpy_Assignment_2::"
      ]
    },
    {
      "cell_type": "markdown",
      "metadata": {
        "id": "DfwLjuPgZ55n"
      },
      "source": [
        "## Question:1"
      ]
    },
    {
      "cell_type": "markdown",
      "metadata": {
        "id": "aZ-9yEuOZ55r"
      },
      "source": [
        "### Convert a 1D array to a 2D array with 2 rows?"
      ]
    },
    {
      "cell_type": "markdown",
      "metadata": {
        "id": "NYYg5DS-Z55s"
      },
      "source": [
        "#### Desired output::"
      ]
    },
    {
      "cell_type": "markdown",
      "metadata": {
        "id": "EkRKkUUcZ55t"
      },
      "source": [
        "array([[0, 1, 2, 3, 4],\n",
        "        [5, 6, 7, 8, 9]])"
      ]
    },
    {
      "cell_type": "code",
      "metadata": {
        "colab": {
          "base_uri": "https://localhost:8080/"
        },
        "id": "kGQPBOAdZ55x",
        "outputId": "7e194eee-0d45-4723-c626-26814af3d9cc"
      },
      "source": [
        "import numpy as np\n",
        "np.arange(10).reshape(2, 5)"
      ],
      "execution_count": 6,
      "outputs": [
        {
          "output_type": "execute_result",
          "data": {
            "text/plain": [
              "array([[0, 1, 2, 3, 4],\n",
              "       [5, 6, 7, 8, 9]])"
            ]
          },
          "metadata": {
            "tags": []
          },
          "execution_count": 6
        }
      ]
    },
    {
      "cell_type": "markdown",
      "metadata": {
        "id": "Y8BNzPnXZ553"
      },
      "source": [
        "## Question:2"
      ]
    },
    {
      "cell_type": "markdown",
      "metadata": {
        "id": "W4A4QMj4Z554"
      },
      "source": [
        "###  How to stack two arrays vertically?"
      ]
    },
    {
      "cell_type": "markdown",
      "metadata": {
        "id": "jZoFH0BnZ556"
      },
      "source": [
        "#### Desired Output::"
      ]
    },
    {
      "cell_type": "markdown",
      "metadata": {
        "id": "JY3G2ZmpZ559"
      },
      "source": [
        "array([[0, 1, 2, 3, 4],\n",
        "        [5, 6, 7, 8, 9],\n",
        "       [1, 1, 1, 1, 1],\n",
        "       [1, 1, 1, 1, 1]])"
      ]
    },
    {
      "cell_type": "code",
      "metadata": {
        "id": "BqlowFtJZ55_"
      },
      "source": [
        ""
      ],
      "execution_count": null,
      "outputs": []
    },
    {
      "cell_type": "markdown",
      "metadata": {
        "id": "IsEUTdY3Z56B"
      },
      "source": [
        "## Question:3"
      ]
    },
    {
      "cell_type": "markdown",
      "metadata": {
        "id": "9vE3HN7sZ56C"
      },
      "source": [
        "### How to stack two arrays horizontally?"
      ]
    },
    {
      "cell_type": "markdown",
      "metadata": {
        "id": "p6ORXIvgZ56E"
      },
      "source": [
        "#### Desired Output::"
      ]
    },
    {
      "cell_type": "markdown",
      "metadata": {
        "id": "7vyGWCGWZ56F"
      },
      "source": [
        "array([[0, 1, 2, 3, 4, 1, 1, 1, 1, 1],\n",
        "       [5, 6, 7, 8, 9, 1, 1, 1, 1, 1]])"
      ]
    },
    {
      "cell_type": "code",
      "metadata": {
        "id": "7qt1SCEDZ56G"
      },
      "source": [
        ""
      ],
      "execution_count": null,
      "outputs": []
    },
    {
      "cell_type": "markdown",
      "metadata": {
        "id": "GQDb0nNpZ56H"
      },
      "source": [
        "## Question:4"
      ]
    },
    {
      "cell_type": "markdown",
      "metadata": {
        "id": "g9dV_QhaZ56I"
      },
      "source": [
        "### How to convert an array of arrays into a flat 1d array?"
      ]
    },
    {
      "cell_type": "markdown",
      "metadata": {
        "id": "k2Bog__BZ56J"
      },
      "source": [
        "#### Desired Output::"
      ]
    },
    {
      "cell_type": "markdown",
      "metadata": {
        "id": "HptZMfY4Z56K"
      },
      "source": [
        "array([0, 1, 2, 3, 4, 5, 6, 7, 8, 9])"
      ]
    },
    {
      "cell_type": "code",
      "metadata": {
        "id": "uvH8EwMoZ56L"
      },
      "source": [
        ""
      ],
      "execution_count": null,
      "outputs": []
    },
    {
      "cell_type": "markdown",
      "metadata": {
        "id": "c1e8W_XqZ56M"
      },
      "source": [
        "## Question:5"
      ]
    },
    {
      "cell_type": "markdown",
      "metadata": {
        "id": "48w0sy4KZ56M"
      },
      "source": [
        "### How to Convert higher dimension into one dimension?"
      ]
    },
    {
      "cell_type": "markdown",
      "metadata": {
        "id": "qhC42jJKZ56O"
      },
      "source": [
        "#### Desired Output::"
      ]
    },
    {
      "cell_type": "markdown",
      "metadata": {
        "id": "Yhs5btPgZ56O"
      },
      "source": [
        "array([ 0, 1, 2, 3, 4, 5, 6, 7, 8, 9, 10, 11, 12, 13, 14])"
      ]
    },
    {
      "cell_type": "code",
      "metadata": {
        "id": "_SpIBgCqZ56S"
      },
      "source": [
        ""
      ],
      "execution_count": null,
      "outputs": []
    },
    {
      "cell_type": "markdown",
      "metadata": {
        "id": "99twJImzZ56U"
      },
      "source": [
        "## Question:6"
      ]
    },
    {
      "cell_type": "markdown",
      "metadata": {
        "id": "7mZGzFf9Z56V"
      },
      "source": [
        "### Convert one dimension to higher dimension?"
      ]
    },
    {
      "cell_type": "markdown",
      "metadata": {
        "id": "E2Fy0AqBZ56V"
      },
      "source": [
        "#### Desired Output::"
      ]
    },
    {
      "cell_type": "markdown",
      "metadata": {
        "id": "e60qqMveZ56W"
      },
      "source": [
        "array([[ 0, 1, 2],\n",
        "[ 3, 4, 5],\n",
        "[ 6, 7, 8],\n",
        "[ 9, 10, 11],\n",
        "[12, 13, 14]])"
      ]
    },
    {
      "cell_type": "code",
      "metadata": {
        "id": "ENNlEJDCZ56X"
      },
      "source": [
        ""
      ],
      "execution_count": null,
      "outputs": []
    },
    {
      "cell_type": "markdown",
      "metadata": {
        "id": "Y5Y8AyMoZ56Y"
      },
      "source": [
        "## Question:7"
      ]
    },
    {
      "cell_type": "markdown",
      "metadata": {
        "id": "tXkuu9s4Z56Z"
      },
      "source": [
        "### Create 5x5 an array and find the square of an array?"
      ]
    },
    {
      "cell_type": "code",
      "metadata": {
        "id": "1SEYrQLxZ56a"
      },
      "source": [
        ""
      ],
      "execution_count": null,
      "outputs": []
    },
    {
      "cell_type": "markdown",
      "metadata": {
        "id": "WjrvV3-DZ56b"
      },
      "source": [
        "## Question:8"
      ]
    },
    {
      "cell_type": "markdown",
      "metadata": {
        "id": "WZwNKCMJZ56c"
      },
      "source": [
        "### Create 5x6 an array and find the mean?"
      ]
    },
    {
      "cell_type": "code",
      "metadata": {
        "id": "A_KbVGrHZ56c"
      },
      "source": [
        ""
      ],
      "execution_count": null,
      "outputs": []
    },
    {
      "cell_type": "markdown",
      "metadata": {
        "id": "tH2BqtMUZ56d"
      },
      "source": [
        "## Question:9"
      ]
    },
    {
      "cell_type": "markdown",
      "metadata": {
        "id": "TkHTmV5-Z56e"
      },
      "source": [
        "### Find the standard deviation of the previous array in Q8?"
      ]
    },
    {
      "cell_type": "code",
      "metadata": {
        "id": "S8zOE2SlZ56f"
      },
      "source": [
        ""
      ],
      "execution_count": null,
      "outputs": []
    },
    {
      "cell_type": "markdown",
      "metadata": {
        "id": "jaN_EDDwZ56g"
      },
      "source": [
        "## Question:10"
      ]
    },
    {
      "cell_type": "markdown",
      "metadata": {
        "id": "3cApki0sZ56h"
      },
      "source": [
        "### Find the median of the previous array in Q8?"
      ]
    },
    {
      "cell_type": "code",
      "metadata": {
        "id": "eYL7t6n8Z56i"
      },
      "source": [
        ""
      ],
      "execution_count": null,
      "outputs": []
    },
    {
      "cell_type": "markdown",
      "metadata": {
        "id": "_ii0C_e0Z56k"
      },
      "source": [
        "## Question:11"
      ]
    },
    {
      "cell_type": "markdown",
      "metadata": {
        "id": "44BEsK2vZ56l"
      },
      "source": [
        "### Find the transpose of the previous array in Q8?"
      ]
    },
    {
      "cell_type": "code",
      "metadata": {
        "id": "e_joDleWZ56m"
      },
      "source": [
        ""
      ],
      "execution_count": null,
      "outputs": []
    },
    {
      "cell_type": "markdown",
      "metadata": {
        "id": "u5-C0MKQZ56n"
      },
      "source": [
        "## Question:12"
      ]
    },
    {
      "cell_type": "markdown",
      "metadata": {
        "id": "lXb5hQ1kZ56o"
      },
      "source": [
        "### Create a 4x4 an array and find the sum of diagonal elements?"
      ]
    },
    {
      "cell_type": "code",
      "metadata": {
        "id": "TwRxGjsJZ56q"
      },
      "source": [
        ""
      ],
      "execution_count": null,
      "outputs": []
    },
    {
      "cell_type": "markdown",
      "metadata": {
        "id": "kGHqnwbgZ56r"
      },
      "source": [
        "## Question:13"
      ]
    },
    {
      "cell_type": "markdown",
      "metadata": {
        "id": "QrPdQ4nOZ56t"
      },
      "source": [
        "### Find the determinant of the previous array in Q12?"
      ]
    },
    {
      "cell_type": "code",
      "metadata": {
        "id": "oN_mnJvZZ56u"
      },
      "source": [
        ""
      ],
      "execution_count": null,
      "outputs": []
    },
    {
      "cell_type": "markdown",
      "metadata": {
        "id": "PkJVf-4NZ56v"
      },
      "source": [
        "## Question:14"
      ]
    },
    {
      "cell_type": "markdown",
      "metadata": {
        "id": "CUX-ENp1Z56w"
      },
      "source": [
        "### Find the 5th and 95th percentile of an array?"
      ]
    },
    {
      "cell_type": "code",
      "metadata": {
        "id": "wyXbTeAWZ56x"
      },
      "source": [
        ""
      ],
      "execution_count": null,
      "outputs": []
    },
    {
      "cell_type": "markdown",
      "metadata": {
        "id": "tfvj4pcCZ56y"
      },
      "source": [
        "## Question:15"
      ]
    },
    {
      "cell_type": "markdown",
      "metadata": {
        "id": "xhgnsnUQZ56z"
      },
      "source": [
        "### How to find if a given array has any null values?"
      ]
    },
    {
      "cell_type": "code",
      "metadata": {
        "id": "CChCCLdxZ561"
      },
      "source": [
        ""
      ],
      "execution_count": null,
      "outputs": []
    }
  ]
}